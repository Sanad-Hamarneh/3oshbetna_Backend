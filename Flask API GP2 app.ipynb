{
 "cells": [
  {
   "cell_type": "markdown",
   "id": "88514baa-30ac-47b7-a8ff-54b4bcc1c90c",
   "metadata": {},
   "source": [
    "#### main"
   ]
  },
  {
   "cell_type": "markdown",
   "id": "816e0b0b-02bc-4e8b-ab8b-b9ed340e6283",
   "metadata": {},
   "source": [
    "### main code "
   ]
  },
  {
   "cell_type": "code",
   "execution_count": null,
   "id": "7f964766-174b-4cd5-9fda-99e6958f8c42",
   "metadata": {
    "scrolled": true
   },
   "outputs": [
    {
     "name": "stdout",
     "output_type": "stream",
     "text": [
      "TensorFlow version: 2.10.0\n",
      "model1Name loaded successfully.\n",
      "model2Name loaded successfully.\n",
      " * Serving Flask app '__main__'\n",
      " * Debug mode: on\n"
     ]
    },
    {
     "name": "stderr",
     "output_type": "stream",
     "text": [
      "WARNING: This is a development server. Do not use it in a production deployment. Use a production WSGI server instead.\n",
      " * Running on all addresses (0.0.0.0)\n",
      " * Running on http://127.0.0.1:5000\n",
      " * Running on http://192.168.0.34:5000\n",
      "Press CTRL+C to quit\n"
     ]
    },
    {
     "name": "stdout",
     "output_type": "stream",
     "text": [
      "Using model: model1Name\n",
      "1/1 [==============================] - 8s 8s/step\n"
     ]
    },
    {
     "name": "stderr",
     "output_type": "stream",
     "text": [
      "192.168.0.34 - - [06/Jan/2025 13:12:03] \"POST /upload HTTP/1.1\" 200 -\n"
     ]
    },
    {
     "name": "stdout",
     "output_type": "stream",
     "text": [
      "Top Predictions: [{'label': 'Nettles', 'confidence': 0.6564901471138}, {'label': 'Cheeseweed', 'confidence': 0.31906402111053467}, {'label': 'Ecballium', 'confidence': 0.013545366935431957}]\n",
      "Using model: model1Name\n",
      "1/1 [==============================] - 0s 384ms/step\n"
     ]
    },
    {
     "name": "stderr",
     "output_type": "stream",
     "text": [
      "192.168.0.34 - - [06/Jan/2025 13:12:52] \"POST /upload HTTP/1.1\" 200 -\n"
     ]
    },
    {
     "name": "stdout",
     "output_type": "stream",
     "text": [
      "Top Predictions: [{'label': 'Nettles', 'confidence': 0.6564901471138}, {'label': 'Cheeseweed', 'confidence': 0.31906402111053467}, {'label': 'Ecballium', 'confidence': 0.013545366935431957}]\n",
      "Using model: model1Name\n",
      "1/1 [==============================] - 0s 18ms/step\n"
     ]
    },
    {
     "name": "stderr",
     "output_type": "stream",
     "text": [
      "192.168.0.34 - - [06/Jan/2025 13:14:51] \"POST /upload HTTP/1.1\" 200 -\n"
     ]
    },
    {
     "name": "stdout",
     "output_type": "stream",
     "text": [
      "Top Predictions: [{'label': 'Nettles', 'confidence': 0.6564901471138}, {'label': 'Cheeseweed', 'confidence': 0.31906402111053467}, {'label': 'Ecballium', 'confidence': 0.013545366935431957}]\n",
      "Using model: model1Name\n",
      "1/1 [==============================] - 0s 18ms/step\n"
     ]
    },
    {
     "name": "stderr",
     "output_type": "stream",
     "text": [
      "192.168.0.34 - - [06/Jan/2025 13:16:59] \"POST /upload HTTP/1.1\" 200 -\n"
     ]
    },
    {
     "name": "stdout",
     "output_type": "stream",
     "text": [
      "Top Predictions: [{'label': 'Nettles', 'confidence': 0.6564901471138}, {'label': 'Cheeseweed', 'confidence': 0.31906402111053467}, {'label': 'Ecballium', 'confidence': 0.013545366935431957}]\n",
      "Using model: model1Name\n",
      "1/1 [==============================] - 0s 27ms/step\n"
     ]
    },
    {
     "name": "stderr",
     "output_type": "stream",
     "text": [
      "192.168.0.34 - - [06/Jan/2025 13:19:44] \"POST /upload HTTP/1.1\" 200 -\n"
     ]
    },
    {
     "name": "stdout",
     "output_type": "stream",
     "text": [
      "Top Predictions: [{'label': 'Nettles', 'confidence': 0.6564901471138}, {'label': 'Cheeseweed', 'confidence': 0.31906402111053467}, {'label': 'Ecballium', 'confidence': 0.013545366935431957}]\n",
      "Using model: model2Name\n",
      "1/1 [==============================] - 0s 471ms/step\n"
     ]
    },
    {
     "name": "stderr",
     "output_type": "stream",
     "text": [
      "192.168.0.34 - - [06/Jan/2025 13:20:08] \"POST /upload HTTP/1.1\" 200 -\n"
     ]
    },
    {
     "name": "stdout",
     "output_type": "stream",
     "text": [
      "Top Predictions: [{'label': 'Cheeseweed', 'confidence': 0.7540174722671509}, {'label': 'Nettles', 'confidence': 0.22329382598400116}, {'label': 'Oleander', 'confidence': 0.009951227344572544}]\n",
      "Using model: model1Name\n",
      "1/1 [==============================] - 0s 19ms/step\n"
     ]
    },
    {
     "name": "stderr",
     "output_type": "stream",
     "text": [
      "192.168.0.34 - - [06/Jan/2025 13:24:39] \"POST /upload HTTP/1.1\" 200 -\n"
     ]
    },
    {
     "name": "stdout",
     "output_type": "stream",
     "text": [
      "Top Predictions: [{'label': 'Nettles', 'confidence': 0.6564901471138}, {'label': 'Cheeseweed', 'confidence': 0.31906402111053467}, {'label': 'Ecballium', 'confidence': 0.013545366935431957}]\n",
      "Using model: model1Name\n",
      "1/1 [==============================] - 0s 37ms/step\n"
     ]
    },
    {
     "name": "stderr",
     "output_type": "stream",
     "text": [
      "192.168.0.34 - - [06/Jan/2025 13:25:03] \"POST /upload HTTP/1.1\" 200 -\n"
     ]
    },
    {
     "name": "stdout",
     "output_type": "stream",
     "text": [
      "Top Predictions: [{'label': 'Nettles', 'confidence': 0.6564901471138}, {'label': 'Cheeseweed', 'confidence': 0.31906402111053467}, {'label': 'Ecballium', 'confidence': 0.013545366935431957}]\n",
      "Using model: model1Name\n",
      "1/1 [==============================] - 0s 169ms/step\n"
     ]
    },
    {
     "name": "stderr",
     "output_type": "stream",
     "text": [
      "192.168.0.34 - - [06/Jan/2025 13:28:03] \"POST /upload HTTP/1.1\" 200 -\n"
     ]
    },
    {
     "name": "stdout",
     "output_type": "stream",
     "text": [
      "Top Predictions: [{'label': 'Nettles', 'confidence': 0.912713348865509}, {'label': 'Parsley', 'confidence': 0.055652737617492676}, {'label': 'Cheeseweed', 'confidence': 0.013997218571603298}]\n",
      "Using model: model1Name\n",
      "1/1 [==============================] - 0s 26ms/step\n"
     ]
    },
    {
     "name": "stderr",
     "output_type": "stream",
     "text": [
      "192.168.0.34 - - [06/Jan/2025 13:28:10] \"POST /upload HTTP/1.1\" 200 -\n"
     ]
    },
    {
     "name": "stdout",
     "output_type": "stream",
     "text": [
      "Top Predictions: [{'label': 'Ecballium', 'confidence': 0.6837087273597717}, {'label': 'Nettles', 'confidence': 0.10801467299461365}, {'label': 'MilkThistle', 'confidence': 0.08634105324745178}]\n",
      "Using model: model1Name\n",
      "1/1 [==============================] - 0s 18ms/step\n"
     ]
    },
    {
     "name": "stderr",
     "output_type": "stream",
     "text": [
      "192.168.0.34 - - [06/Jan/2025 13:28:34] \"POST /upload HTTP/1.1\" 200 -\n"
     ]
    },
    {
     "name": "stdout",
     "output_type": "stream",
     "text": [
      "Top Predictions: [{'label': 'Oleander', 'confidence': 0.3812452256679535}, {'label': 'MilkThistle', 'confidence': 0.27755287289619446}, {'label': 'Cheeseweed', 'confidence': 0.20892426371574402}]\n",
      "Using model: model1Name\n",
      "1/1 [==============================] - 0s 171ms/step\n"
     ]
    },
    {
     "name": "stderr",
     "output_type": "stream",
     "text": [
      "192.168.0.34 - - [06/Jan/2025 13:28:45] \"POST /upload HTTP/1.1\" 200 -\n"
     ]
    },
    {
     "name": "stdout",
     "output_type": "stream",
     "text": [
      "Top Predictions: [{'label': 'Coriander', 'confidence': 0.745023250579834}, {'label': 'Ecballium', 'confidence': 0.1722422093153}, {'label': 'Cheeseweed', 'confidence': 0.04309338703751564}]\n",
      "Using model: model1Name\n",
      "1/1 [==============================] - 0s 22ms/step\n"
     ]
    },
    {
     "name": "stderr",
     "output_type": "stream",
     "text": [
      "192.168.0.34 - - [06/Jan/2025 13:31:00] \"POST /upload HTTP/1.1\" 200 -\n"
     ]
    },
    {
     "name": "stdout",
     "output_type": "stream",
     "text": [
      "Top Predictions: [{'label': 'Oleander', 'confidence': 0.9945138692855835}, {'label': 'Ecballium', 'confidence': 0.002201237017288804}, {'label': 'Coriander', 'confidence': 0.0020513031631708145}]\n",
      "Using model: model2Name\n",
      "1/1 [==============================] - 0s 17ms/step\n"
     ]
    },
    {
     "name": "stderr",
     "output_type": "stream",
     "text": [
      "192.168.0.34 - - [06/Jan/2025 13:31:06] \"POST /upload HTTP/1.1\" 200 -\n"
     ]
    },
    {
     "name": "stdout",
     "output_type": "stream",
     "text": [
      "Top Predictions: [{'label': 'Oleander', 'confidence': 0.9971056580543518}, {'label': 'MilkThistle', 'confidence': 0.0009314596536569297}, {'label': 'Ecballium', 'confidence': 0.0008893557824194431}]\n",
      "Using model: model1Name\n",
      "1/1 [==============================] - 0s 17ms/step\n"
     ]
    },
    {
     "name": "stderr",
     "output_type": "stream",
     "text": [
      "192.168.0.34 - - [06/Jan/2025 13:31:53] \"POST /upload HTTP/1.1\" 200 -\n"
     ]
    },
    {
     "name": "stdout",
     "output_type": "stream",
     "text": [
      "Top Predictions: [{'label': 'Parsley', 'confidence': 0.7287545800209045}, {'label': 'Ecballium', 'confidence': 0.09541109949350357}, {'label': 'Oleander', 'confidence': 0.05780785158276558}]\n",
      "Using model: model1Name\n",
      "1/1 [==============================] - 0s 22ms/step\n"
     ]
    },
    {
     "name": "stderr",
     "output_type": "stream",
     "text": [
      "192.168.0.34 - - [06/Jan/2025 13:34:07] \"POST /upload HTTP/1.1\" 200 -\n"
     ]
    },
    {
     "name": "stdout",
     "output_type": "stream",
     "text": [
      "Top Predictions: [{'label': 'Parsley', 'confidence': 0.7287545800209045}, {'label': 'Ecballium', 'confidence': 0.09541109949350357}, {'label': 'Oleander', 'confidence': 0.05780785158276558}]\n"
     ]
    }
   ],
   "source": [
    "from flask import Flask, jsonify, request\n",
    "from flask_cors import CORS\n",
    "import tensorflow as tf\n",
    "import numpy as np\n",
    "from tensorflow.keras.preprocessing.image import load_img, img_to_array\n",
    "from PIL import Image\n",
    "import io\n",
    "import os\n",
    "\n",
    "print(\"TensorFlow version:\", tf.__version__)\n",
    "\n",
    "app = Flask(__name__)\n",
    "CORS(app)  # Enable CORS for all origins\n",
    "\n",
    "\n",
    "MODEL_PATHS = {\n",
    "    \"model1Name\": r'C:\\\\Users\\\\USER\\\\Desktop\\\\Ready data\\\\Model_3\\\\model_resnet50_best_of_best_7_1.h5',\n",
    "    \"model2Name\": r\"C:\\\\Users\\\\USER\\\\Downloads\\\\model_resnet50_5_clases.h5\",\n",
    "}\n",
    "\n",
    "\n",
    "CLASS_LABELS = {\n",
    "    \"model1Name\": [\"Cheeseweed\", \"Coriander\", \"Ecballium\", \"MilkThistle\", \"Nettles\", \"Oleander\", \"Parsley\"],\n",
    "    \"model2Name\": [\"Cheeseweed\", \"Ecballium\", \"MilkThistle\", \"Nettles\", \"Oleander\"],\n",
    "}\n",
    "\n",
    "\n",
    "models = {}\n",
    "for name, path in MODEL_PATHS.items():\n",
    "    if os.path.exists(path):\n",
    "        try:\n",
    "            models[name] = tf.keras.models.load_model(path)\n",
    "            print(f\"{name} loaded successfully.\")\n",
    "        except Exception as e:\n",
    "            print(f\"Error loading {name}: {e}\")\n",
    "    else:\n",
    "        print(f\"{name} not found at {path}\")\n",
    "\n",
    "\n",
    "def preprocess_image(image_path, target_size=(224, 224)):\n",
    "   \n",
    "    img = load_img(image_path, target_size=target_size) \n",
    "    img_array = img_to_array(img) \n",
    "    img_array = np.expand_dims(img_array, axis=0)  \n",
    "    img_array = tf.keras.applications.resnet50.preprocess_input(img_array)  \n",
    "    return img_array\n",
    "\n",
    "\n",
    "def predict_top_classes(image_path, model, class_labels, top_n=3):\n",
    "   \n",
    "    preprocessed_image = preprocess_image(image_path)\n",
    "    predictions = model.predict(preprocessed_image)[0]  # Get the predictions for all classes\n",
    "    top_indices = np.argsort(predictions)[-top_n:][::-1]  # Get indices of top N classes\n",
    "    top_predictions = [\n",
    "        {\"label\": class_labels[i], \"confidence\": float(predictions[i])}\n",
    "        for i in top_indices\n",
    "    ]\n",
    "    return top_predictions\n",
    "\n",
    "\n",
    "@app.route('/upload', methods=['POST'])\n",
    "def upload():\n",
    "    if 'image' not in request.files or 'model' not in request.form:\n",
    "        return jsonify({\"error\": \"Missing file or model parameter\"}), 400\n",
    "\n",
    "    selected_model = request.form['model']\n",
    "    if selected_model not in models:\n",
    "        return jsonify({\"error\": f\"Model {selected_model} not available\"}), 400\n",
    "\n",
    "    print(f\"Using model: {selected_model}\")  \n",
    "\n",
    "    file = request.files['image']\n",
    "    try:\n",
    "        image = Image.open(io.BytesIO(file.read()))\n",
    "        image_path = \"temp_image.jpg\"\n",
    "        image.save(image_path) \n",
    "    except Exception as e:\n",
    "        return jsonify({\"error\": f\"Invalid image format: {e}\"}), 400\n",
    "\n",
    "    \n",
    "    class_labels = CLASS_LABELS[selected_model]\n",
    "\n",
    "    try:\n",
    "        top_predictions = predict_top_classes(image_path, models[selected_model], class_labels, top_n=3)\n",
    "        print(f\"Top Predictions: {top_predictions}\")\n",
    "        os.remove(image_path)  \n",
    "    except Exception as e:\n",
    "        return jsonify({\"error\": f\"Prediction failed: {e}\"}), 500\n",
    "\n",
    "    return jsonify({\n",
    "        \"predictions\": top_predictions\n",
    "    })\n",
    "\n",
    "\n",
    "if __name__ == '__main__':\n",
    "    app.run(debug=True, host=\"0.0.0.0\", port=5000, use_reloader=False)\n"
   ]
  },
  {
   "cell_type": "code",
   "execution_count": null,
   "id": "314a662e-64b9-48d8-93d4-8516714df846",
   "metadata": {},
   "outputs": [],
   "source": []
  },
  {
   "cell_type": "code",
   "execution_count": null,
   "id": "24f3d929-aaf3-4e76-b82a-0d8e328e55ff",
   "metadata": {},
   "outputs": [],
   "source": []
  },
  {
   "cell_type": "code",
   "execution_count": null,
   "id": "4d8207c5-6072-46b7-980b-87d3b922d6a5",
   "metadata": {},
   "outputs": [],
   "source": []
  },
  {
   "cell_type": "code",
   "execution_count": null,
   "id": "be7da1af-de6f-46d3-8778-9d2126a09171",
   "metadata": {},
   "outputs": [],
   "source": []
  },
  {
   "cell_type": "code",
   "execution_count": null,
   "id": "e7ffb5ca-6488-4d13-8d2c-70e704a159a1",
   "metadata": {},
   "outputs": [],
   "source": []
  },
  {
   "cell_type": "code",
   "execution_count": null,
   "id": "75b21c7d-7faf-4267-ae10-8704dd0f1ddd",
   "metadata": {},
   "outputs": [],
   "source": []
  },
  {
   "cell_type": "code",
   "execution_count": null,
   "id": "88fc868b-fbd4-4564-9acc-d7ccf91eedd6",
   "metadata": {},
   "outputs": [],
   "source": []
  },
  {
   "cell_type": "code",
   "execution_count": null,
   "id": "36e8b625-8faf-4e6d-8408-452d8d360943",
   "metadata": {},
   "outputs": [],
   "source": []
  },
  {
   "cell_type": "code",
   "execution_count": null,
   "id": "79ec125a-44b9-4757-9d25-dcce68dc77ab",
   "metadata": {},
   "outputs": [],
   "source": []
  },
  {
   "cell_type": "code",
   "execution_count": null,
   "id": "2d0da9d9-d2c3-46bf-91af-6ea1b57b483d",
   "metadata": {},
   "outputs": [],
   "source": []
  },
  {
   "cell_type": "code",
   "execution_count": null,
   "id": "b5456710-f94e-4aec-afb1-2919d5e934f2",
   "metadata": {},
   "outputs": [],
   "source": []
  },
  {
   "cell_type": "code",
   "execution_count": null,
   "id": "bd1fdc81-a294-4863-b244-606f2ce82569",
   "metadata": {},
   "outputs": [],
   "source": []
  },
  {
   "cell_type": "code",
   "execution_count": null,
   "id": "83e558bf-64e3-4ae1-8e34-58de9f54912b",
   "metadata": {},
   "outputs": [],
   "source": []
  },
  {
   "cell_type": "code",
   "execution_count": null,
   "id": "be975a00-02b9-4195-8897-591a8029685b",
   "metadata": {},
   "outputs": [],
   "source": [
    "#test images"
   ]
  },
  {
   "cell_type": "code",
   "execution_count": 22,
   "id": "693455ea-113a-4bc4-9707-3cca45cf752e",
   "metadata": {},
   "outputs": [
    {
     "name": "stdout",
     "output_type": "stream",
     "text": [
      "1/1 [==============================] - 0s 419ms/step\n",
      "Confidence scores for all classes:\n",
      "class_0: 0.00\n",
      "class_1: 0.00\n",
      "class_2: 0.00\n",
      "class_3: 0.00\n",
      "class_4: 0.00\n",
      "class_5: 0.97\n",
      "class_p: 0.01\n"
     ]
    }
   ],
   "source": [
    "import tensorflow as tf\n",
    "import numpy as np\n",
    "from tensorflow.keras.preprocessing.image import load_img, img_to_array\n",
    "\n",
    "# Load the trained ResNet50 model\n",
    "model_path = 'model_resnet50_best_of_best_7_1.h5'  # Replace with the path to your model\n",
    "model = tf.keras.models.load_model(model_path)\n",
    "\n",
    "# Function to preprocess input image for ResNet50\n",
    "def preprocess_image(image_path, target_size=(224, 224)):\n",
    "    \"\"\"\n",
    "    Preprocesses an input image for ResNet50.\n",
    "    \n",
    "    Args:\n",
    "    - image_path: Path to the input image.\n",
    "    - target_size: Target size for the input image.\n",
    "    \n",
    "    Returns:\n",
    "    - Preprocessed image ready for prediction.\n",
    "    \"\"\"\n",
    "    img = load_img(image_path, target_size=target_size)  # Load image with target size\n",
    "    img_array = img_to_array(img)  # Convert to numpy array\n",
    "    img_array = np.expand_dims(img_array, axis=0)  # Add batch dimension\n",
    "    img_array = tf.keras.applications.resnet50.preprocess_input(img_array)  # Normalize as per ResNet50 requirements\n",
    "    return img_array\n",
    "\n",
    "# Function to make predictions with confidence scores\n",
    "def predict_image_with_all_confidences(image_path, class_labels):\n",
    "    \"\"\"\n",
    "    Predicts the class of an image using the ResNet50 model and returns the confidence scores for all classes.\n",
    "    \n",
    "    Args:\n",
    "    - image_path: Path to the image to be predicted.\n",
    "    - class_labels: List of class labels corresponding to the model output.\n",
    "    \n",
    "    Returns:\n",
    "    - Dictionary of class labels and their confidence scores.\n",
    "    \"\"\"\n",
    "    preprocessed_image = preprocess_image(image_path)\n",
    "    predictions = model.predict(preprocessed_image)[0]  # Get the predictions for all classes\n",
    "    confidences = {class_labels[i]: float(predictions[i]) for i in range(len(class_labels))}\n",
    "    return confidences\n",
    "\n",
    "# Example usage\n",
    "if __name__ == \"__main__\":\n",
    "    # Define the class labels (replace with your actual class labels)\n",
    "    class_labels = ['class_0', 'class_1', 'class_2', 'class_3', 'class_4', 'class_5', 'class_p']  # Update with your model's classes\n",
    "\n",
    "    # Path to the test image\n",
    "    test_image_path = 'test8.jpg'  # Replace with the path to the image you want to test\n",
    "\n",
    "    # Predict the confidence scores for all classes\n",
    "    confidences = predict_image_with_all_confidences(test_image_path, class_labels)\n",
    "    \n",
    "    print(\"Confidence scores for all classes:\")\n",
    "    for label, confidence in confidences.items():\n",
    "        print(f\"{label}: {confidence:.2f}\")\n"
   ]
  }
 ],
 "metadata": {
  "kernelspec": {
   "display_name": "Python 3 (ipykernel)",
   "language": "python",
   "name": "python3"
  },
  "language_info": {
   "codemirror_mode": {
    "name": "ipython",
    "version": 3
   },
   "file_extension": ".py",
   "mimetype": "text/x-python",
   "name": "python",
   "nbconvert_exporter": "python",
   "pygments_lexer": "ipython3",
   "version": "3.8.20"
  }
 },
 "nbformat": 4,
 "nbformat_minor": 5
}
